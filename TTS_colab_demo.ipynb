{
  "nbformat": 4,
  "nbformat_minor": 0,
  "metadata": {
    "colab": {
      "name": "TTS_demo.ipynb",
      "provenance": [],
      "include_colab_link": true
    },
    "kernelspec": {
      "name": "python3",
      "display_name": "Python 3"
    }
  },
  "cells": [
    {
      "cell_type": "markdown",
      "metadata": {
        "id": "view-in-github",
        "colab_type": "text"
      },
      "source": [
        "<a href=\"https://colab.research.google.com/github/lingjzhu/probing-TTS-models/blob/master/TTS_colab_demo.ipynb\" target=\"_parent\"><img src=\"https://colab.research.google.com/assets/colab-badge.svg\" alt=\"Open In Colab\"/></a>"
      ]
    },
    {
      "cell_type": "code",
      "metadata": {
        "id": "EbeNGY_pgI08",
        "colab_type": "code",
        "colab": {}
      },
      "source": [
        "import os\n",
        "from os.path import exists, join, expanduser\n",
        "\n",
        "os.chdir(expanduser(\"~\"))\n",
        "tts_dir = 'probing-TTS-models'\n",
        "if not exists(tts_dir):\n",
        "  ! git clone https://github.com/lingjzhu/$tts_dir\n",
        "  ! cd probing-TTS-models && git -B checkout && cd -\n",
        "  \n",
        "    "
      ],
      "execution_count": 0,
      "outputs": []
    },
    {
      "cell_type": "code",
      "metadata": {
        "id": "NlLC7Q7Us8go",
        "colab_type": "code",
        "colab": {
          "base_uri": "https://localhost:8080/",
          "height": 191
        },
        "outputId": "fe1c51bc-e610-41df-f22e-23c8274e9055"
      },
      "source": [
        "#os.chdir('probing-TTS-models')\n",
        "\n",
        "if not exists('models'):\n",
        "  os.mkdir('models')\n",
        "os.chdir('models')\n",
        "!pwd\n",
        "\n",
        "# download pre-trained WaveGlow\n",
        "! curl -O https://drive.google.com/open?id=1EqyPpN3QvWOu2iRGdJ3i85UEEt4obqAR\n",
        "# download pre-trained Tacotron 2 with BERT embeddings\n",
        "! curl -O https://drive.google.com/open?id=1rMmLnmeBzQjb1wJb9kTFXNm3YdOUk07G\n",
        "# download pre-trained Tacotron 2\n",
        "! curl -O https://drive.google.com/open?id=1Ou8JRZ-T5ZpZqjPuWIilptxO3atSr312"
      ],
      "execution_count": 10,
      "outputs": [
        {
          "output_type": "stream",
          "text": [
            "/root/probing-TTS-models/models/models\n",
            "  % Total    % Received % Xferd  Average Speed   Time    Time     Time  Current\n",
            "                                 Dload  Upload   Total   Spent    Left  Speed\n",
            "  0     0    0     0    0     0      0      0 --:--:-- --:--:-- --:--:--     0\n",
            "  % Total    % Received % Xferd  Average Speed   Time    Time     Time  Current\n",
            "                                 Dload  Upload   Total   Spent    Left  Speed\n",
            "  0     0    0     0    0     0      0      0 --:--:-- --:--:-- --:--:--     0\n",
            "  % Total    % Received % Xferd  Average Speed   Time    Time     Time  Current\n",
            "                                 Dload  Upload   Total   Spent    Left  Speed\n",
            "  0     0    0     0    0     0      0      0 --:--:-- --:--:-- --:--:--     0\n"
          ],
          "name": "stdout"
        }
      ]
    },
    {
      "cell_type": "code",
      "metadata": {
        "id": "AojOfE7Eg8sj",
        "colab_type": "code",
        "colab": {
          "base_uri": "https://localhost:8080/",
          "height": 35
        },
        "outputId": "87183046-020a-453f-eb78-61af4fb3b8bd"
      },
      "source": [
        ""
      ],
      "execution_count": 6,
      "outputs": [
        {
          "output_type": "stream",
          "text": [
            "/root/probing-TTS-models\n"
          ],
          "name": "stdout"
        }
      ]
    }
  ]
}