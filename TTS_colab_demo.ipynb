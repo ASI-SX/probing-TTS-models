{
  "nbformat": 4,
  "nbformat_minor": 0,
  "metadata": {
    "colab": {
      "name": "TTS_demo.ipynb",
      "provenance": [],
      "include_colab_link": true
    },
    "kernelspec": {
      "name": "python3",
      "display_name": "Python 3"
    }
  },
  "cells": [
    {
      "cell_type": "markdown",
      "metadata": {
        "id": "view-in-github",
        "colab_type": "text"
      },
      "source": [
        "<a href=\"https://colab.research.google.com/github/lingjzhu/probing-TTS-models/blob/master/TTS_colab_demo.ipynb\" target=\"_parent\"><img src=\"https://colab.research.google.com/assets/colab-badge.svg\" alt=\"Open In Colab\"/></a>"
      ]
    },
    {
      "cell_type": "code",
      "metadata": {
        "id": "EbeNGY_pgI08",
        "colab_type": "code",
        "colab": {}
      },
      "source": [
        "import os\n",
        "from os.path import exists, join, expanduser\n",
        "\n",
        "os.chdir(expanduser(\"~\"))\n",
        "tts_dir = 'probing-TTS-models'\n",
        "if not exists(tts_dir):\n",
        "  ! git clone https://github.com/lingjzhu/$tts_dir\n",
        "  ! cd probing-TTS-models && git -B checkout && cd -\n",
        "  \n",
        "    "
      ],
      "execution_count": 0,
      "outputs": []
    },
    {
      "cell_type": "code",
      "metadata": {
        "id": "NlLC7Q7Us8go",
        "colab_type": "code",
        "colab": {}
      },
      "source": [
        "os.chdir('probing-TTS-models')\n",
        "\n",
        "if not exists('models'):\n",
        "  os.mkdir('models')\n",
        "os.chdir('models')\n",
        "!pwd\n",
        "\n",
        "# download pre-trained WaveGlow\n",
        "! wget -O waveglow_150k https://www.dropbox.com/s/vdy6aui6dg1ziyn/waveglow_150k?dl=0\n",
        "\n",
        "# download pre-trained Tacotron 2 with BERT embeddings\n",
        "! wget -O tacotron2_bert https://www.dropbox.com/s/bct9u8jimz049lg/tacotron2_bert?dl=0\n",
        "\n",
        "# download pre-trained Tacotron 2\n",
        "! wget -O tacotron2 https://www.dropbox.com/s/dn498owcg9wxcvq/tacotron2?dl=0"
      ],
      "execution_count": 0,
      "outputs": []
    },
    {
      "cell_type": "code",
      "metadata": {
        "id": "AojOfE7Eg8sj",
        "colab_type": "code",
        "colab": {}
      },
      "source": [
        "! gdown --id 1iNeYFhCBJWeUsIlnW_2K6SMwXkM4gLb_\n",
        "! unzip chinese_wwm_ext_pytorch.zip"
      ],
      "execution_count": 0,
      "outputs": []
    },
    {
      "cell_type": "code",
      "metadata": {
        "id": "fjpIyqd0IbQ2",
        "colab_type": "code",
        "colab": {}
      },
      "source": [
        ""
      ],
      "execution_count": 0,
      "outputs": []
    },
    {
      "cell_type": "code",
      "metadata": {
        "id": "w-P1xcw7ImQE",
        "colab_type": "code",
        "colab": {}
      },
      "source": [
        "! ls"
      ],
      "execution_count": 0,
      "outputs": []
    }
  ]
}